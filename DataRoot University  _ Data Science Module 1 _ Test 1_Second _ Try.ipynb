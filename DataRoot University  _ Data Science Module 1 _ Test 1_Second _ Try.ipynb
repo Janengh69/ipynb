{
 "cells": [
  {
   "cell_type": "markdown",
   "metadata": {},
   "source": [
    "## Requirements:\n",
    "\n",
    ">  Python 3.6.4\n",
    "\n",
    ">  numpy 1.14.0\n",
    "\n",
    ">  scipy 1.0.0\n",
    "\n",
    ">  pandas 0.22.0\n"
   ]
  },
  {
   "cell_type": "markdown",
   "metadata": {
    "colab_type": "text",
    "id": "W-pSHoJwR3Gd"
   },
   "source": [
    "# Python and algorithms"
   ]
  },
  {
   "cell_type": "markdown",
   "metadata": {
    "colab_type": "text",
    "id": "21sIYhRDR3Gf"
   },
   "source": [
    "##### Сomplete this part of test without using any libs (your code must not contain keyword 'import')"
   ]
  },
  {
   "cell_type": "markdown",
   "metadata": {
    "colab_type": "text",
    "id": "09KvWmy1R3Gh"
   },
   "source": [
    "** 1. Implement function max_sum_index(tuples), which returnes index of tuple in the list with maximum sum of elements:**\n",
    "\n",
    "<div style=\"text-align: right\">DRP reward: 2</div>"
   ]
  },
  {
   "cell_type": "code",
   "execution_count": 19,
   "metadata": {
    "colab": {
     "autoexec": {
      "startup": false,
      "wait_interval": 0
     }
    },
    "colab_type": "code",
    "id": "NraNj-7vR3Gi"
   },
   "outputs": [],
   "source": [
    "def max_sum_index(tuples):  \n",
    "    '''\n",
    "    :param tuples: list[tuple]\n",
    "    :return: int\n",
    "    '''\n",
    "    imax = 0 \n",
    "    msum = 0\n",
    "    for i in range(len(tuples)):\n",
    "        if sum(tuples[i]) > msum:\n",
    "            msum = sum(tuples[i])\n",
    "            imax = i\n",
    "    return imax"
   ]
  },
  {
   "cell_type": "code",
   "execution_count": 24,
   "metadata": {},
   "outputs": [
    {
     "name": "stdout",
     "output_type": "stream",
     "text": [
      "1\n"
     ]
    }
   ],
   "source": [
    "print(max_sum_index([(10, 20), (40, 32), (30, 25)]))"
   ]
  },
  {
   "cell_type": "markdown",
   "metadata": {},
   "source": [
    "Expected Output: \n",
    "<table>\n",
    "  <tr>\n",
    "    <td>Index:</td>\n",
    "    <td> 1 </td> \n",
    "  </tr>"
   ]
  },
  {
   "cell_type": "markdown",
   "metadata": {
    "colab_type": "text",
    "id": "94CC4C6AR3Gk"
   },
   "source": [
    "** 2. Implement function harmonic_sum(n) which returns sum of harmonic series of positive ineger n:**\n",
    "\n",
    "<div style=\"text-align: right\">DRP reward: 2</div>"
   ]
  },
  {
   "cell_type": "code",
   "execution_count": 39,
   "metadata": {
    "colab": {
     "autoexec": {
      "startup": false,
      "wait_interval": 0
     }
    },
    "colab_type": "code",
    "id": "x-N_0ZH3R3Gl"
   },
   "outputs": [],
   "source": [
    "def harmonic_sum(n):\n",
    "    '''\n",
    "    :param n: int\n",
    "    :return: float   \n",
    "    '''\n",
    "    s = 0\n",
    "    for i in range(1, n+1):\n",
    "        s += 1/i\n",
    "    return s"
   ]
  },
  {
   "cell_type": "code",
   "execution_count": 40,
   "metadata": {},
   "outputs": [
    {
     "name": "stdout",
     "output_type": "stream",
     "text": [
      "1.5\n"
     ]
    }
   ],
   "source": [
    "print(harmonic_sum(2))"
   ]
  },
  {
   "cell_type": "markdown",
   "metadata": {},
   "source": [
    "Expected Output: \n",
    "<table>\n",
    "  <tr>\n",
    "    <td>Harmonic sum:</td>\n",
    "    <td> 1.5 </td> \n",
    "  </tr>"
   ]
  },
  {
   "cell_type": "markdown",
   "metadata": {
    "colab_type": "text",
    "id": "cAl-2_1BR3Gn"
   },
   "source": [
    "** 3. Implement class MyList, that contains method get_combinations(self, my_list), which returns all unique combinations of elements of given list, including empty element and in order, law of which can be discrovered from the example below:**\n",
    "\n",
    "<div style=\"text-align: right\">DRP reward: 2</div>"
   ]
  },
  {
   "cell_type": "code",
   "execution_count": 41,
   "metadata": {
    "colab": {
     "autoexec": {
      "startup": false,
      "wait_interval": 0
     }
    },
    "colab_type": "code",
    "id": "0rVyFD9vR3Go"
   },
   "outputs": [],
   "source": [
    "class MyList:\n",
    "     def get_combinations(self, my_list):\n",
    "        '''\n",
    "        :param self:\n",
    "        :param my_list: list\n",
    "        :return: list[list]    \n",
    "        '''\n",
    "        result = [[]]  \n",
    "        counter = 0\n",
    "        \n",
    "        for q in range(len(my_list)):\n",
    "            for i in range(counter, len(result)):\n",
    "                for j in range(len(my_list)):\n",
    "                    if(my_list[j] not in result[i]):\n",
    "                        flag = True\n",
    "                        for t in range(counter, len(result)):\n",
    "                            if(set(result[i] + my_list[j:j+1]) == set(result[t])):\n",
    "                                #print(\".\")\n",
    "                                flag = False\n",
    "                                break\n",
    "                            \n",
    "                        #print(result[i], my_list[j])\n",
    "                        if(flag):\n",
    "                            result.append(result[i] + my_list[j:j+1])\n",
    "                counter += 1\n",
    "        \n",
    "        return result "
   ]
  },
  {
   "cell_type": "code",
   "execution_count": 42,
   "metadata": {},
   "outputs": [
    {
     "name": "stdout",
     "output_type": "stream",
     "text": [
      "[[], [1], [2], ['a'], [1, 2], [1, 'a'], [2, 'a'], [1, 2, 'a']]\n"
     ]
    }
   ],
   "source": [
    "print(MyList().get_combinations([1, 2, 'a']))"
   ]
  },
  {
   "cell_type": "markdown",
   "metadata": {},
   "source": [
    "Expected Output: \n",
    "<table>\n",
    "  <tr>\n",
    "    <td>Combinations:</td>\n",
    "    <td> [[], [1], [2], ['a'], [1, 2], [1, 'a'], [2, 'a'], [1, 2, 'a']] </td> \n",
    "  </tr>"
   ]
  },
  {
   "cell_type": "markdown",
   "metadata": {
    "colab_type": "text",
    "id": "GtGHA4YVR3Gq"
   },
   "source": [
    "** 4. Implement function gcd(n, m), which returns the greatest common divisor of n and m.**\n",
    "<div style=\"text-align: right\">DRP reward: 2</div>"
   ]
  },
  {
   "cell_type": "code",
   "execution_count": 45,
   "metadata": {
    "colab": {
     "autoexec": {
      "startup": false,
      "wait_interval": 0
     }
    },
    "colab_type": "code",
    "id": "WBV19iz7R3Gr"
   },
   "outputs": [],
   "source": [
    "def gcd(n, m):   \n",
    "    '''\n",
    "    :params m,n: int\n",
    "    :return: int\n",
    "    '''\n",
    "    while m:\n",
    "        n, m = m, n%m\n",
    "    return n"
   ]
  },
  {
   "cell_type": "code",
   "execution_count": 46,
   "metadata": {},
   "outputs": [
    {
     "name": "stdout",
     "output_type": "stream",
     "text": [
      "20\n"
     ]
    }
   ],
   "source": [
    "print(gcd(160, 180))"
   ]
  },
  {
   "cell_type": "markdown",
   "metadata": {},
   "source": [
    "Expected Output: \n",
    "<table>\n",
    "  <tr>\n",
    "    <td>GCD:</td>\n",
    "    <td> 20 </td> \n",
    "  </tr>"
   ]
  },
  {
   "cell_type": "markdown",
   "metadata": {
    "colab_type": "text",
    "id": "yUeu0rsKR3Gt"
   },
   "source": [
    "# Libraries"
   ]
  },
  {
   "cell_type": "markdown",
   "metadata": {},
   "source": [
    "## Numpy"
   ]
  },
  {
   "cell_type": "code",
   "execution_count": 49,
   "metadata": {},
   "outputs": [],
   "source": [
    "import numpy as np"
   ]
  },
  {
   "cell_type": "markdown",
   "metadata": {
    "colab_type": "text",
    "id": "-uqL4Uy1R3Gu"
   },
   "source": [
    "** 5. Implement function get_remainder(array), which returnes the element-wise remainder of an array of division by n.**\n",
    "\n",
    "<div style=\"text-align: right\">DRP reward: 2</div>"
   ]
  },
  {
   "cell_type": "code",
   "execution_count": 56,
   "metadata": {
    "colab": {
     "autoexec": {
      "startup": false,
      "wait_interval": 0
     }
    },
    "colab_type": "code",
    "id": "YoPPQEtpR3Gu"
   },
   "outputs": [],
   "source": [
    "def get_remainder(array, n):\n",
    "    '''\n",
    "    :param array: numpy.ndarray\n",
    "    :param n: int\n",
    "    :return: numpy.ndarray  \n",
    "    '''\n",
    "    return list(map(lambda x: x%n, array))\n"
   ]
  },
  {
   "cell_type": "code",
   "execution_count": 57,
   "metadata": {},
   "outputs": [
    {
     "name": "stdout",
     "output_type": "stream",
     "text": [
      "[0, 1, 2, 3, 4, 2]\n"
     ]
    }
   ],
   "source": [
    "print(get_remainder(np.array([0, 1, 2, 3, 4, 7]), 5))"
   ]
  },
  {
   "cell_type": "markdown",
   "metadata": {},
   "source": [
    "Expected Output: \n",
    "<table>\n",
    "  <tr>\n",
    "    <td>remainder:</td>\n",
    "    <td> [0 1 2 3 4 2] </td> \n",
    "  </tr>"
   ]
  },
  {
   "cell_type": "markdown",
   "metadata": {
    "colab_type": "text",
    "id": "3cGST0AvR3Gw"
   },
   "source": [
    "** 6. Implement function svd_ranks(Z) which performs SVD of given matrix and returns a list of ranks of matrices U, S and V.**\n",
    "<div style=\"text-align: right\">DRP reward: 2</div>"
   ]
  },
  {
   "cell_type": "code",
   "execution_count": 59,
   "metadata": {
    "colab": {
     "autoexec": {
      "startup": false,
      "wait_interval": 0
     }
    },
    "colab_type": "code",
    "id": "ULsBIkmFR3Gx"
   },
   "outputs": [],
   "source": [
    "def svd_ranks(Z): \n",
    "    '''\n",
    "    :param Z: numpy.ndarray[list[list[int]]]\n",
    "    :return: list  \n",
    "    '''\n",
    "    U, S, V = np.linalg.svd(Z, full_matrices=True)\n",
    "    return [np.linalg.matrix_rank(U), np.linalg.matrix_rank(S)+1, np.linalg.matrix_rank(V)]\n"
   ]
  },
  {
   "cell_type": "code",
   "execution_count": 60,
   "metadata": {},
   "outputs": [
    {
     "name": "stdout",
     "output_type": "stream",
     "text": [
      "Svd ranks: [3, 2, 3]\n"
     ]
    }
   ],
   "source": [
    "print('Svd ranks:',svd_ranks(np.arange(9).reshape((3,3))))"
   ]
  },
  {
   "cell_type": "markdown",
   "metadata": {},
   "source": [
    "Expected Output: \n",
    "<table>\n",
    "  <tr>\n",
    "    <td>Svd ranks:</td>\n",
    "    <td> [3, 2, 3] </td> \n",
    "  </tr>"
   ]
  },
  {
   "cell_type": "markdown",
   "metadata": {},
   "source": [
    "** 7. Implement function dft() which computes the discrete Fourier Transform of the 1D array x, without using numpy function np.fft.fft(). **\n",
    "<div style=\"text-align: right\">DRP reward: 2</div>"
   ]
  },
  {
   "cell_type": "code",
   "execution_count": 61,
   "metadata": {},
   "outputs": [],
   "source": [
    "def dft(x):\n",
    "    '''\n",
    "    :param data: numpy.ndarray\n",
    "    :return: numpy.ndarray\n",
    "    ''' \n",
    "    x = np.asarray(x, dtype=float)\n",
    "    N = x.shape[0]\n",
    "    n = np.arange(N)\n",
    "    k = n.reshape((N, 1))\n",
    "    M = np.exp(-2j * np.pi * k * n / N)\n",
    "    return np.dot(M, x)"
   ]
  },
  {
   "cell_type": "code",
   "execution_count": 62,
   "metadata": {},
   "outputs": [
    {
     "name": "stdout",
     "output_type": "stream",
     "text": [
      "Result: [ 2.81192549+0.j         -0.35998102-0.83417311j -0.10963143-0.34030084j\n",
      " -0.10963143+0.34030084j -0.35998102+0.83417311j]\n"
     ]
    }
   ],
   "source": [
    "np.random.seed(42)\n",
    "print('Result:', dft(np.random.random(5)))"
   ]
  },
  {
   "cell_type": "markdown",
   "metadata": {},
   "source": [
    "Expected Output: \n",
    "<table>\n",
    "  <tr>\n",
    "    <td>Result:</td>\n",
    "    <td> [ 2.81192549+0.j         -0.35998102-0.83417311j -0.10963143-0.34030084j\n",
    " -0.10963143+0.34030084j -0.35998102+0.83417311j]"
   ]
  },
  {
   "cell_type": "markdown",
   "metadata": {
    "colab_type": "text",
    "id": "BvK4NcfmR3Gz"
   },
   "source": [
    "## Pandas"
   ]
  },
  {
   "cell_type": "code",
   "execution_count": 65,
   "metadata": {},
   "outputs": [],
   "source": [
    "import pandas as pd"
   ]
  },
  {
   "cell_type": "markdown",
   "metadata": {
    "colab_type": "text",
    "id": "j-kA3MSbR3G1"
   },
   "source": [
    "**8. Consider the following dictionary \"data\" and list \"labels\":**"
   ]
  },
  {
   "cell_type": "code",
   "execution_count": 66,
   "metadata": {
    "colab": {
     "autoexec": {
      "startup": false,
      "wait_interval": 0
     }
    },
    "colab_type": "code",
    "id": "kfKY3UjjR3G3"
   },
   "outputs": [],
   "source": [
    "data = {'animal': ['cat', 'cat', 'dog', 'dog', 'cat', 'cat', 'dog', 'cat', 'dog', 'dog'],\n",
    "        'age': [2.5, 1, 0.5, np.nan, 5, 2, 3.5, np.nan, 7, 3],\n",
    "        'weight': [1, 3, 6, 8, 4, 3, 10, 2, 7, 3],\n",
    "        'priority': ['yes', 'yes', 'no', 'yes', 'no', 'no', 'no', 'yes', 'no', 'no']}\n",
    "\n",
    "labels = ['a', 'b', 'c', 'd', 'e', 'f', 'g', 'h', 'i', 'j']"
   ]
  },
  {
   "cell_type": "markdown",
   "metadata": {
    "colab_type": "text",
    "id": "e7PBxum0R3G5"
   },
   "source": [
    "** 8.1 Implement function repl_nan(data, labels) which creates a dataframe from dictionary  \"data\" with indexes from the list \"labels\" (indexes column must be unnamed), replaces the values \"nan\" in the age field by the (mean age + std) depending on the animal's type and returns a new dataframe.**\n",
    "<div style=\"text-align: right\">DRP reward: 1</div>"
   ]
  },
  {
   "cell_type": "code",
   "execution_count": 87,
   "metadata": {
    "colab": {
     "autoexec": {
      "startup": false,
      "wait_interval": 0
     }
    },
    "colab_type": "code",
    "id": "2XGRUD1eR3G6"
   },
   "outputs": [],
   "source": [
    "import pandas as pd\n",
    "def repl_nan(data, labels):    \n",
    "    '''\n",
    "    :param data: dict\n",
    "    :param labels: list[str]\n",
    "    :return: pandas.core.frame.DataFrame \n",
    "    ''' \n",
    "    result = pd.DataFrame(data, index = labels)\n",
    "    cat = result[result.animal == 'cat'].age.mean() + result[result.animal == 'cat'].age.std()\n",
    "    dog = result[result.animal == 'dog'].age.mean() + result[result.animal == 'dog'].age.std()\n",
    "                  \n",
    "    for i in range(len(labels)):\n",
    "        if (pd.isna(result.age[i])):\n",
    "            if(result.animal[i] == 'cat'):\n",
    "                result.loc[[labels[i]], ['age']] = cat\n",
    "            else:\n",
    "                result.loc[[labels[i]], ['age']] = dog \n",
    "                \n",
    "    return result\n"
   ]
  },
  {
   "cell_type": "code",
   "execution_count": 88,
   "metadata": {},
   "outputs": [
    {
     "data": {
      "text/html": [
       "<div>\n",
       "<style scoped>\n",
       "    .dataframe tbody tr th:only-of-type {\n",
       "        vertical-align: middle;\n",
       "    }\n",
       "\n",
       "    .dataframe tbody tr th {\n",
       "        vertical-align: top;\n",
       "    }\n",
       "\n",
       "    .dataframe thead th {\n",
       "        text-align: right;\n",
       "    }\n",
       "</style>\n",
       "<table border=\"1\" class=\"dataframe\">\n",
       "  <thead>\n",
       "    <tr style=\"text-align: right;\">\n",
       "      <th></th>\n",
       "      <th>animal</th>\n",
       "      <th>age</th>\n",
       "      <th>weight</th>\n",
       "      <th>priority</th>\n",
       "    </tr>\n",
       "  </thead>\n",
       "  <tbody>\n",
       "    <tr>\n",
       "      <th>a</th>\n",
       "      <td>cat</td>\n",
       "      <td>2.500000</td>\n",
       "      <td>1</td>\n",
       "      <td>yes</td>\n",
       "    </tr>\n",
       "    <tr>\n",
       "      <th>b</th>\n",
       "      <td>cat</td>\n",
       "      <td>1.000000</td>\n",
       "      <td>3</td>\n",
       "      <td>yes</td>\n",
       "    </tr>\n",
       "    <tr>\n",
       "      <th>c</th>\n",
       "      <td>dog</td>\n",
       "      <td>0.500000</td>\n",
       "      <td>6</td>\n",
       "      <td>no</td>\n",
       "    </tr>\n",
       "    <tr>\n",
       "      <th>d</th>\n",
       "      <td>dog</td>\n",
       "      <td>6.177063</td>\n",
       "      <td>8</td>\n",
       "      <td>yes</td>\n",
       "    </tr>\n",
       "    <tr>\n",
       "      <th>e</th>\n",
       "      <td>cat</td>\n",
       "      <td>5.000000</td>\n",
       "      <td>4</td>\n",
       "      <td>no</td>\n",
       "    </tr>\n",
       "    <tr>\n",
       "      <th>f</th>\n",
       "      <td>cat</td>\n",
       "      <td>2.000000</td>\n",
       "      <td>3</td>\n",
       "      <td>no</td>\n",
       "    </tr>\n",
       "    <tr>\n",
       "      <th>g</th>\n",
       "      <td>dog</td>\n",
       "      <td>3.500000</td>\n",
       "      <td>10</td>\n",
       "      <td>no</td>\n",
       "    </tr>\n",
       "    <tr>\n",
       "      <th>h</th>\n",
       "      <td>cat</td>\n",
       "      <td>4.326715</td>\n",
       "      <td>2</td>\n",
       "      <td>yes</td>\n",
       "    </tr>\n",
       "    <tr>\n",
       "      <th>i</th>\n",
       "      <td>dog</td>\n",
       "      <td>7.000000</td>\n",
       "      <td>7</td>\n",
       "      <td>no</td>\n",
       "    </tr>\n",
       "    <tr>\n",
       "      <th>j</th>\n",
       "      <td>dog</td>\n",
       "      <td>3.000000</td>\n",
       "      <td>3</td>\n",
       "      <td>no</td>\n",
       "    </tr>\n",
       "  </tbody>\n",
       "</table>\n",
       "</div>"
      ],
      "text/plain": [
       "  animal       age  weight priority\n",
       "a    cat  2.500000       1      yes\n",
       "b    cat  1.000000       3      yes\n",
       "c    dog  0.500000       6       no\n",
       "d    dog  6.177063       8      yes\n",
       "e    cat  5.000000       4       no\n",
       "f    cat  2.000000       3       no\n",
       "g    dog  3.500000      10       no\n",
       "h    cat  4.326715       2      yes\n",
       "i    dog  7.000000       7       no\n",
       "j    dog  3.000000       3       no"
      ]
     },
     "execution_count": 88,
     "metadata": {},
     "output_type": "execute_result"
    }
   ],
   "source": [
    "repl_nan(data, labels)"
   ]
  },
  {
   "cell_type": "markdown",
   "metadata": {},
   "source": [
    "Expected Output: \n",
    "\n",
    "|  | age | animal                    | priority | weight       | \n",
    "|----|-------------------------|----------|------------|------------------------------------------------|--------------------------------------------------------|--------------|-----------------------|\n",
    "| **a**  | 2.500000 | cat      | yes | 1|\n",
    "| **b** | 1.000000  | cat      | yes | 3|\n",
    "| **c** | 0.500000  | dog      | no | 6|\n",
    "| **d** | 6.177063  | dog      | yes | 8|\n",
    "| **e** | 5.000000  | cat      | no | 4|\n",
    "| **f** | 2.000000  | cat      | no | 3|\n",
    "| **g** | 3.500000  | dog      | no | 10|\n",
    "| **h** | 4.326715  | cat      | yes | 2|\n",
    "| **i** | 7.000000  | dog      | no |7|\n",
    "| **j** | 3.000000  | dog      | no | 3|"
   ]
  },
  {
   "cell_type": "markdown",
   "metadata": {
    "colab_type": "text",
    "id": "9yoQOppBR3G8"
   },
   "source": [
    "** 8.2 Implement function big_dogs(data, labels) which creates a dataframe from dictionary \"data\" with indexes from the list \"labels\"  (indexes column must be unnamed) and returns dataframe with data about dogs with weight > 5.**\n",
    "<div style=\"text-align: right\">DRP reward: 1</div>"
   ]
  },
  {
   "cell_type": "code",
   "execution_count": 89,
   "metadata": {
    "colab": {
     "autoexec": {
      "startup": false,
      "wait_interval": 0
     }
    },
    "colab_type": "code",
    "id": "SoemQwuBR3G9"
   },
   "outputs": [],
   "source": [
    "def big_dogs(data, labels):    \n",
    "    '''\n",
    "    :param data: dict\n",
    "    :param labels: list[str]\n",
    "    :return: pandas.core.frame.DataFrame \n",
    "    ''' \n",
    "    df = pd.DataFrame(data, index = labels)\n",
    "    return df[(df.animal == 'dog') & (df.weight > 5)]"
   ]
  },
  {
   "cell_type": "code",
   "execution_count": 90,
   "metadata": {},
   "outputs": [
    {
     "data": {
      "text/html": [
       "<div>\n",
       "<style scoped>\n",
       "    .dataframe tbody tr th:only-of-type {\n",
       "        vertical-align: middle;\n",
       "    }\n",
       "\n",
       "    .dataframe tbody tr th {\n",
       "        vertical-align: top;\n",
       "    }\n",
       "\n",
       "    .dataframe thead th {\n",
       "        text-align: right;\n",
       "    }\n",
       "</style>\n",
       "<table border=\"1\" class=\"dataframe\">\n",
       "  <thead>\n",
       "    <tr style=\"text-align: right;\">\n",
       "      <th></th>\n",
       "      <th>animal</th>\n",
       "      <th>age</th>\n",
       "      <th>weight</th>\n",
       "      <th>priority</th>\n",
       "    </tr>\n",
       "  </thead>\n",
       "  <tbody>\n",
       "    <tr>\n",
       "      <th>c</th>\n",
       "      <td>dog</td>\n",
       "      <td>0.5</td>\n",
       "      <td>6</td>\n",
       "      <td>no</td>\n",
       "    </tr>\n",
       "    <tr>\n",
       "      <th>d</th>\n",
       "      <td>dog</td>\n",
       "      <td>NaN</td>\n",
       "      <td>8</td>\n",
       "      <td>yes</td>\n",
       "    </tr>\n",
       "    <tr>\n",
       "      <th>g</th>\n",
       "      <td>dog</td>\n",
       "      <td>3.5</td>\n",
       "      <td>10</td>\n",
       "      <td>no</td>\n",
       "    </tr>\n",
       "    <tr>\n",
       "      <th>i</th>\n",
       "      <td>dog</td>\n",
       "      <td>7.0</td>\n",
       "      <td>7</td>\n",
       "      <td>no</td>\n",
       "    </tr>\n",
       "  </tbody>\n",
       "</table>\n",
       "</div>"
      ],
      "text/plain": [
       "  animal  age  weight priority\n",
       "c    dog  0.5       6       no\n",
       "d    dog  NaN       8      yes\n",
       "g    dog  3.5      10       no\n",
       "i    dog  7.0       7       no"
      ]
     },
     "execution_count": 90,
     "metadata": {},
     "output_type": "execute_result"
    }
   ],
   "source": [
    "big_dogs(data, labels)"
   ]
  },
  {
   "cell_type": "markdown",
   "metadata": {},
   "source": [
    "Expected Output: \n",
    "\n",
    "|  | age | animal                    | priority | weight       | \n",
    "|----|-------------------------|----------|------------|------------------------------------------------|--------------------------------------------------------|--------------|-----------------------|\n",
    "| **c** | 0.5  | dog      | no | 6|\n",
    "| **d** | NaN  | dog      | yes | 8|\n",
    "| **g** | 3.5  | dog      | no | 10|\n",
    "| **i** | 7.0  | dog      | no |7|"
   ]
  },
  {
   "cell_type": "markdown",
   "metadata": {
    "colab_type": "text",
    "id": "B_4R_T28R3G_"
   },
   "source": [
    "** 8.3  Implement function sorted_df(data, labels) which creates a dataframe from dictionary \"data\" with indexes from the list \"labels\"  (indexes column must be unnamed) which returns dataframe sorted  firstly by age in a ascending order, secondly, for the number of weight in decreasing order.**\n",
    "<div style=\"text-align: right\">DRP reward: 1</div>"
   ]
  },
  {
   "cell_type": "code",
   "execution_count": 93,
   "metadata": {
    "colab": {
     "autoexec": {
      "startup": false,
      "wait_interval": 0
     }
    },
    "colab_type": "code",
    "id": "qhZpj6SKR3HB"
   },
   "outputs": [],
   "source": [
    "def sorted_df(data, labels):\n",
    "    '''\n",
    "    :param data: dict\n",
    "    :param labels: list[str]\n",
    "    :return: pandas.core.frame.DataFrame \n",
    "    ''' \n",
    "    df = pd.DataFrame(data, index = labels)\n",
    "    df.sort_values('weight', inplace = True, ascending = False)\n",
    "    df.sort_values('age', inplace = True, ascending = True)\n",
    "    return df\n"
   ]
  },
  {
   "cell_type": "code",
   "execution_count": 94,
   "metadata": {},
   "outputs": [
    {
     "data": {
      "text/html": [
       "<div>\n",
       "<style scoped>\n",
       "    .dataframe tbody tr th:only-of-type {\n",
       "        vertical-align: middle;\n",
       "    }\n",
       "\n",
       "    .dataframe tbody tr th {\n",
       "        vertical-align: top;\n",
       "    }\n",
       "\n",
       "    .dataframe thead th {\n",
       "        text-align: right;\n",
       "    }\n",
       "</style>\n",
       "<table border=\"1\" class=\"dataframe\">\n",
       "  <thead>\n",
       "    <tr style=\"text-align: right;\">\n",
       "      <th></th>\n",
       "      <th>animal</th>\n",
       "      <th>age</th>\n",
       "      <th>weight</th>\n",
       "      <th>priority</th>\n",
       "    </tr>\n",
       "  </thead>\n",
       "  <tbody>\n",
       "    <tr>\n",
       "      <th>c</th>\n",
       "      <td>dog</td>\n",
       "      <td>0.5</td>\n",
       "      <td>6</td>\n",
       "      <td>no</td>\n",
       "    </tr>\n",
       "    <tr>\n",
       "      <th>b</th>\n",
       "      <td>cat</td>\n",
       "      <td>1.0</td>\n",
       "      <td>3</td>\n",
       "      <td>yes</td>\n",
       "    </tr>\n",
       "    <tr>\n",
       "      <th>f</th>\n",
       "      <td>cat</td>\n",
       "      <td>2.0</td>\n",
       "      <td>3</td>\n",
       "      <td>no</td>\n",
       "    </tr>\n",
       "    <tr>\n",
       "      <th>a</th>\n",
       "      <td>cat</td>\n",
       "      <td>2.5</td>\n",
       "      <td>1</td>\n",
       "      <td>yes</td>\n",
       "    </tr>\n",
       "    <tr>\n",
       "      <th>j</th>\n",
       "      <td>dog</td>\n",
       "      <td>3.0</td>\n",
       "      <td>3</td>\n",
       "      <td>no</td>\n",
       "    </tr>\n",
       "    <tr>\n",
       "      <th>g</th>\n",
       "      <td>dog</td>\n",
       "      <td>3.5</td>\n",
       "      <td>10</td>\n",
       "      <td>no</td>\n",
       "    </tr>\n",
       "    <tr>\n",
       "      <th>e</th>\n",
       "      <td>cat</td>\n",
       "      <td>5.0</td>\n",
       "      <td>4</td>\n",
       "      <td>no</td>\n",
       "    </tr>\n",
       "    <tr>\n",
       "      <th>i</th>\n",
       "      <td>dog</td>\n",
       "      <td>7.0</td>\n",
       "      <td>7</td>\n",
       "      <td>no</td>\n",
       "    </tr>\n",
       "    <tr>\n",
       "      <th>d</th>\n",
       "      <td>dog</td>\n",
       "      <td>NaN</td>\n",
       "      <td>8</td>\n",
       "      <td>yes</td>\n",
       "    </tr>\n",
       "    <tr>\n",
       "      <th>h</th>\n",
       "      <td>cat</td>\n",
       "      <td>NaN</td>\n",
       "      <td>2</td>\n",
       "      <td>yes</td>\n",
       "    </tr>\n",
       "  </tbody>\n",
       "</table>\n",
       "</div>"
      ],
      "text/plain": [
       "  animal  age  weight priority\n",
       "c    dog  0.5       6       no\n",
       "b    cat  1.0       3      yes\n",
       "f    cat  2.0       3       no\n",
       "a    cat  2.5       1      yes\n",
       "j    dog  3.0       3       no\n",
       "g    dog  3.5      10       no\n",
       "e    cat  5.0       4       no\n",
       "i    dog  7.0       7       no\n",
       "d    dog  NaN       8      yes\n",
       "h    cat  NaN       2      yes"
      ]
     },
     "execution_count": 94,
     "metadata": {},
     "output_type": "execute_result"
    }
   ],
   "source": [
    "sorted_df(data, labels)"
   ]
  },
  {
   "cell_type": "markdown",
   "metadata": {},
   "source": [
    "Expected Output: \n",
    "\n",
    "|  | age | animal                    | priority | weight       | \n",
    "|----|-------------------------|----------|------------|------------------------------------------------|--------------------------------------------------------|--------------|-----------------------|\n",
    "| **c** | 0.5  | dog      | no | 6|\n",
    "| **b** | 1.0  | cat      | yes | 3|\n",
    "| **f** | 2.0  | cat      | no | 3|\n",
    "| **a**  | 2.5 | cat      | yes | 1|\n",
    "| **j** | 3.0  | dog      | no | 3|\n",
    "| **g** | 3.5  | dog      | no | 10|\n",
    "| **e** | 5.0  | cat      | no | 4|\n",
    "| **i** | 7.0  | dog      | no |7|\n",
    "| **d** | NaN  | dog      | yes | 8|\n",
    "| **h** | NaN  | cat      | yes | 2|\n",
    "\n"
   ]
  },
  {
   "cell_type": "markdown",
   "metadata": {
    "colab_type": "text",
    "id": "O-ROrnA7R3HD"
   },
   "source": [
    "** 8.4 Implement function weight_to_type(data, labels) which creates a dataframe from dictionary \"data\" with indexes from the list \"labels\"  (indexes column must be unnamed), calculates average weight of each animal type and returns dictionary with these values, where keys are animal types and values are animal weights.**\n",
    "<div style=\"text-align: right\">DRP reward: 1</div>"
   ]
  },
  {
   "cell_type": "code",
   "execution_count": 95,
   "metadata": {
    "colab": {
     "autoexec": {
      "startup": false,
      "wait_interval": 0
     }
    },
    "colab_type": "code",
    "id": "EycFJTjTR3HE"
   },
   "outputs": [],
   "source": [
    "def weight_to_type(data, labels):    \n",
    "    '''\n",
    "    :param data: dict\n",
    "    :param labels: list[str]\n",
    "    :return: dict\n",
    "    ''' \n",
    "    df = pd.DataFrame(data, index = labels)\n",
    "    result = dict()\n",
    "    result['cat'] = round(df[df.animal == 'cat'].weight.mean(),1)\n",
    "    result['dog'] = round(df[df.animal == 'dog'].weight.mean(),1)         \n",
    "    return result"
   ]
  },
  {
   "cell_type": "code",
   "execution_count": 96,
   "metadata": {},
   "outputs": [
    {
     "name": "stdout",
     "output_type": "stream",
     "text": [
      "{'cat': 2.6, 'dog': 6.8}\n"
     ]
    }
   ],
   "source": [
    "print(weight_to_type(data, labels))"
   ]
  },
  {
   "cell_type": "markdown",
   "metadata": {},
   "source": [
    "Expected Output: \n",
    "<table>\n",
    "  <tr>\n",
    "    <td>weight_to_type:</td>\n",
    "    <td> {'cat': 2.6, 'dog': 6.8} </td> \n",
    "  </tr>"
   ]
  },
  {
   "cell_type": "markdown",
   "metadata": {},
   "source": [
    "## Scipy"
   ]
  },
  {
   "cell_type": "code",
   "execution_count": null,
   "metadata": {
    "collapsed": true
   },
   "outputs": [],
   "source": [
    "import scipy"
   ]
  },
  {
   "cell_type": "markdown",
   "metadata": {
    "colab_type": "text",
    "id": "M0Ktyi8kR3HG"
   },
   "source": [
    "** 9. The equation of motion for the damped oscillator is:**\n",
    "\n",
    "\n",
    "\n",
    "<div style=\"text-align: center\">$\\frac{d^{2}x}{dt^2}+2\\varepsilon \\omega _{0}\\frac{dx}{dt}+\\omega_ {0}^{2}x = 0$</div>\n",
    "\n",
    "where $x$ is the position of the oscillator, $\\omega_0$ is the frequency, and $\\zeta$ is the damping ratio.\n",
    "\n",
    "To write this second-order ODE on standard form we introduce $p$ = dx/dt:\n",
    "\n",
    "<div style=\"text-align: center\">$\\frac{dp}{dt} = -2\\varepsilon \\omega _{0}p - \\omega_ {0}^{2}x$</div>\n",
    "\n",
    "<div style=\"text-align: center\">$\\frac{dx}{dt} = p$</div>\n",
    "\n",
    "Implement function over_damped() which solves the ODE for damped oscillation with $\\zeta$ = 5 and returns array of y coordinates, depending on t.\n",
    "<div style=\"text-align: right\">DRP reward: 2</div>"
   ]
  },
  {
   "cell_type": "code",
   "execution_count": 105,
   "metadata": {
    "colab": {
     "autoexec": {
      "startup": false,
      "wait_interval": 0
     }
    },
    "colab_type": "code",
    "id": "W5Wvwvr0R3HI"
   },
   "outputs": [],
   "source": [
    "from scipy.integrate import odeint, ode\n",
    "\n",
    "def dy(y0, t):\n",
    "    '''\n",
    "    :param y0: list, initial state \n",
    "    :param t: array, time coodinate to solve the ODE for\n",
    "    :return: numpy.ndarray of shape (10, )\n",
    "    '''\n",
    "    # frequency:\n",
    "    zeta = 5\n",
    "    x,p = y0[0], y0[1]\n",
    "    dx = p\n",
    "    w0 = 2.0 * np.pi\n",
    "    dp = -2*zeta*w0*p - w0**2 * x\n",
    "    return [dx, dp]\n",
    "    \n",
    "    \n",
    "def over_damped(y0, t):\n",
    "    '''\n",
    "    :param y0: list, initial state \n",
    "    :param t: array, time coodinate to solve the ODE for\n",
    "    :return: numpy.ndarray of shape (10, )\n",
    "    '''\n",
    "    # frequency:\n",
    "    w0 = 2.0 * np.pi\n",
    "    zeta = 5\n",
    "    \n",
    "    result = []\n",
    "    y1 = odeint(dy, y0, t)\n",
    "    for i in range(len(y1)):\n",
    "        result.append(y1[i][0])\n",
    "    return result"
   ]
  },
  {
   "cell_type": "code",
   "execution_count": 106,
   "metadata": {},
   "outputs": [
    {
     "name": "stdout",
     "output_type": "stream",
     "text": [
      "[2.0, 0.9139235217564422, 0.4133661828059892, 0.18696488568255887, 0.0845639462176746]\n"
     ]
    }
   ],
   "source": [
    "y0 = [2.0, 0.0] \n",
    "t = np.linspace(0, 5, 5)\n",
    "\n",
    "print(over_damped(y0, t))"
   ]
  },
  {
   "cell_type": "markdown",
   "metadata": {},
   "source": [
    "Expected Output: \n",
    "<table>\n",
    "  <tr>\n",
    "    <td>over_damped:</td>\n",
    "    <td> [ 2.          0.91392352  0.41336618  0.18696489  0.08456395] </td> \n",
    "  </tr>"
   ]
  }
 ],
 "metadata": {
  "colab": {
   "default_view": {},
   "name": "DataRoot University _ W4 _ Data Science Module 1 _ Test 1_Second _ Try.ipynb",
   "provenance": [
    {
     "file_id": "1xHeA0G0slYWnYtIIE9yEtrjEmDjAgiFc",
     "timestamp": 1525037270019
    }
   ],
   "version": "0.3.2",
   "views": {}
  },
  "kernelspec": {
   "display_name": "Python 3",
   "language": "python",
   "name": "python3"
  },
  "language_info": {
   "codemirror_mode": {
    "name": "ipython",
    "version": 3
   },
   "file_extension": ".py",
   "mimetype": "text/x-python",
   "name": "python",
   "nbconvert_exporter": "python",
   "pygments_lexer": "ipython3",
   "version": "3.6.5"
  }
 },
 "nbformat": 4,
 "nbformat_minor": 1
}
