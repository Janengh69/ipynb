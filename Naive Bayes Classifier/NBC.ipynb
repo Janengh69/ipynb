{
 "cells": [
  {
   "cell_type": "markdown",
   "metadata": {
    "colab_type": "text",
    "id": "lti3WORYZsmK"
   },
   "source": [
    "# Naive Bayes Classifier\n",
    "\n",
    "Welcome to your next lab! You will build Naive Bayes Classifier.\n",
    "\n",
    "You will classify spam/ham messages.\n",
    "\n",
    "**You will learn to:**\n",
    "- Build the general architecture of a learning algorithm with OOP in mind:\n",
    "    - Helper functions\n",
    "        - Preprocessing data\n",
    "    - Main Model Class\n",
    "        - Training\n",
    "        - Prediction \n"
   ]
  },
  {
   "cell_type": "markdown",
   "metadata": {
    "colab_type": "text",
    "id": "F86OV8dwZsmL"
   },
   "source": [
    "## 1 - Packages ##\n",
    "\n",
    "First, let's run the cell below to import all the packages that you will need during this assignment.\n",
    "- [numpy](www.numpy.org) is the fundamental package for scientific computing with Python.\n",
    "- [pandas](https://pandas.pydata.org/) is a library providing a convenient work with data.\n",
    "- [re](https://docs.python.org/3/library/re.html) is for regex"
   ]
  },
  {
   "cell_type": "code",
   "execution_count": 314,
   "metadata": {
    "colab": {
     "autoexec": {
      "startup": false,
      "wait_interval": 0
     }
    },
    "colab_type": "code",
    "id": "eEoj1DOwZsmM"
   },
   "outputs": [],
   "source": [
    "import pandas as pd\n",
    "import numpy as np\n",
    "import re"
   ]
  },
  {
   "cell_type": "markdown",
   "metadata": {
    "colab_type": "text",
    "id": "b5Wy6bYpZsmO"
   },
   "source": [
    "## 2 - Overview of the Problem set ##\n",
    "\n",
    "**Problem Statement**: You are given a dataset  containing:\n",
    "    - a training set of m_train examples\n",
    "    - a test set of m_test examples\n",
    "    - each example is a message that belongs to a particular class: ham or spam.\n",
    "\n",
    "Let's get more familiar with the dataset. Load the data by running the following code.\n",
    "\n",
    "We won't divide our data to features(X) and target(Y) here, because we need to preprocess it in a special way."
   ]
  },
  {
   "cell_type": "code",
   "execution_count": 315,
   "metadata": {
    "colab": {
     "autoexec": {
      "startup": false,
      "wait_interval": 0
     }
    },
    "colab_type": "code",
    "id": "DtUaewx1ZsmP"
   },
   "outputs": [],
   "source": [
    "# Loading the data \n",
    "\n",
    "def load_data():\n",
    "    df = pd.read_csv('spam.csv', encoding='latin-1')\n",
    "    df_for_tests = df.head()\n",
    "#     print(df)\n",
    "    \n",
    "    idx = np.arange(df.shape[0])\n",
    "    np.random.shuffle(idx)\n",
    "#     print(idx)\n",
    "    \n",
    "    train_set_size = int(df.shape[0] * 0.8)\n",
    "\n",
    "    train_set = df.loc[idx[:train_set_size]]\n",
    "    test_set = df.loc[idx[train_set_size:]]\n",
    "#     print(train_set)\n",
    "#     print(test_set)\n",
    "    \n",
    "    return train_set, test_set, df_for_tests"
   ]
  },
  {
   "cell_type": "code",
   "execution_count": 316,
   "metadata": {
    "colab": {
     "autoexec": {
      "startup": false,
      "wait_interval": 0
     }
    },
    "colab_type": "code",
    "id": "ae4YTbLtZsmR"
   },
   "outputs": [],
   "source": [
    "train_set, test_set, df_for_tests = load_data()"
   ]
  },
  {
   "cell_type": "markdown",
   "metadata": {
    "colab_type": "text",
    "id": "8fxIXA7FZsmU"
   },
   "source": [
    "## 3 - Naive Bayes Classifier\n",
    "**Mathematical expression of the algorithm**:\n",
    "\n",
    "\n",
    "This algorithm is based on Bayes' theorem:\n",
    "    $$ \\begin{equation}\n",
    "    P(A_{j}\\hspace{0.1cm}\\rvert\\hspace{0.1cm}x_{1},\\dots,x_{n}) = \\frac{P(x_{1},\\dots,x_{n}\\hspace{0.1cm}\\rvert\\hspace{0.1cm}A_{j})P(A_{j})}{P(x_{1},\\dots,x_{n})} \n",
    "    \\end{equation}$$\n",
    "    \n",
    "Ignoring denominator (because it stays the same for all cases):\n",
    "\n",
    "$$ \\begin{equation}\n",
    "    P(A_{j})P(x_{1},\\dots,x_{n}\\hspace{0.1cm}\\rvert\\hspace{0.1cm}A_{j}) = P(A_{j}, x_{1},\\dots,x_{n}) = \\\\\n",
    "  \\hspace{1cm} = P(x_{1}\\hspace{0.1cm}\\rvert\\hspace{0.1cm}x_{2},\\dots,x_{n}, A_{j})P(x_{2}\\hspace{0.1cm}\\rvert\\hspace{0.1cm}x_{3}, \\dots ,x_{n}, A_{j})\\dots P(x_{n-1}\\hspace{0.1cm}\\rvert\\hspace{0.1cm}x_{n}, A_{j}) \\approx \\\\\n",
    "  \\hspace{1cm}\n",
    "  \\end{equation}$$\n",
    "By making an assumption that the $x_{i}$ are conditionally independent of each other:\n",
    "$$ \\begin{equation} \\approx P(A_{j}) \\prod_{i=1}^{n} P(x_{i}\\hspace{0.1cm}\\rvert\\hspace{0.1cm}A_{j})\n",
    "   \\end{equation}$$\n",
    "   \n",
    "We can calculate the probability, if we know the prior probability:\n",
    "\n",
    "$$ \\begin{equation}\n",
    "    y^{*} = \\operatorname*{arg\\,max}_{j} \\big(P(A_{j}) \\prod_{i=1}^{n} P(x_{i}\\hspace{0.1cm}\\rvert\\hspace{0.1cm}A_{j})\\big)\n",
    "   \\end{equation}$$\n",
    "   \n",
    "   \n",
    "Due to floating point underflow, the above is usually replaced with the numerically tractable expression:\n",
    "\n",
    "$$ \\begin{equation}\n",
    "    y^{*} = \\operatorname*{arg\\,max}_{j} \\big( \\ln(P(A_{j})) + \\sum_{i=1}^{n} \\ln(P(x_{i}\\hspace{0.1cm}\\rvert\\hspace{0.1cm}A_{j})) \\big)\n",
    "   \\end{equation}$$\n",
    "   \n",
    "   \n",
    "#### Laplace smoothing\n",
    "\n",
    "In statistics, additive smoothing, also called Laplace smoothing, or Lidstone smoothing, is a technique that is used to smooth categorical data. Given an observation \n",
    "$\\begin{equation}\n",
    "    x = (x_{1}\\, \\dots \\,x_{k})\n",
    " \\end{equation}$ from a multinomial distribution with N trials, a \"smoothed\" version of the data gives the estimator:\n",
    "\n",
    "$$ \\begin{equation}\n",
    "    \\theta_i = \\frac{x_{i} + \\alpha}{N + \\alpha k}\n",
    "   \\end{equation}$$\n",
    "\n",
    "where the pseudocount \n",
    "$\\begin{equation}\n",
    "    \\alpha > 0\n",
    " \\end{equation}$ is the smoothing parameter (\n",
    "$\\begin{equation}\n",
    "    \\alpha = 0\n",
    " \\end{equation}$ corresponds to no smoothing)."
   ]
  },
  {
   "cell_type": "markdown",
   "metadata": {
    "colab_type": "text",
    "id": "G9mF4dTVZsmU"
   },
   "source": [
    "### 3.1 - Preprocessing the data \n",
    "\n",
    "Our data consists of different messages. Messages contain some excess symbols, which don't affect the content of the text, but add noise to the data.\n",
    "For example: \"Does not \\\\operate 66.7 after  & lt;# & gt;  or what\". \n",
    "\n",
    "Let's clean our data and leave only letters a-z, A-Z, numbers 0-9 and cast all letters to lowercase, replace double to n spaces with just one space, remove trailing spaces."
   ]
  },
  {
   "cell_type": "code",
   "execution_count": 365,
   "metadata": {
    "colab": {
     "autoexec": {
      "startup": false,
      "wait_interval": 0
     }
    },
    "colab_type": "code",
    "id": "OZDyrOMZZsmV"
   },
   "outputs": [],
   "source": [
    "# Clean the data\n",
    "\n",
    "def clean_data(message):\n",
    "    \n",
    "    \"\"\" \n",
    "    Returns string which consists of message words\n",
    "    \n",
    "    Argument:\n",
    "    message -- message from dataset; \n",
    "        type(message) -> <class 'str'>\n",
    "    \n",
    "    Returns:\n",
    "    result -- cleaned message, which contains only letters a-z, and numbers 0-9, with only one space between words;\n",
    "        type(clean_data(message)) -> <class 'str'>\n",
    "    \n",
    "    \"\"\"\n",
    "    \n",
    "    ### START CODE HERE ###\n",
    "#     print (re.findall(r\"[\\w']+\", message))\n",
    "    t = re.split('\\s+', message)\n",
    "    result = str()\n",
    "#     print(t)\n",
    "    for i in range(len(t)):\n",
    "        t[i] = re.sub('[^\\w]', '', t[i])\n",
    "    t = list(filter(lambda x: (x != ''), t))\n",
    "    return ' '.join(t).lower()\n",
    "    \n",
    "    ### END CODE HERE ###"
   ]
  },
  {
   "cell_type": "code",
   "execution_count": 366,
   "metadata": {
    "colab": {
     "autoexec": {
      "startup": false,
      "wait_interval": 0
     }
    },
    "colab_type": "code",
    "id": "r96K1BnlZsmX"
   },
   "outputs": [
    {
     "name": "stdout",
     "output_type": "stream",
     "text": [
      "cleaned:  does not operate 667 after lt gt or what\n"
     ]
    }
   ],
   "source": [
    "sentence = 'Does not  \\\\operate 66.7 after & lt;# & gt; or what'\n",
    "print('cleaned: ',clean_data(sentence))"
   ]
  },
  {
   "cell_type": "markdown",
   "metadata": {
    "colab_type": "text",
    "id": "t-A6HAOtZsmY"
   },
   "source": [
    "**Expected Output**: \n",
    "\n",
    "<table style=\"width:50%\">\n",
    "    <tr>\n",
    "       <td> **cleaned:** </td>\n",
    "       <td> does not operate 667 after lt gt or what </td>\n",
    "    </tr>\n",
    "    \n",
    "\n",
    "</table>"
   ]
  },
  {
   "cell_type": "markdown",
   "metadata": {
    "colab_type": "text",
    "id": "JsLYrKmtZsmZ"
   },
   "source": [
    "Now let's clean each sentence and split data on features(X) and target(Y)"
   ]
  },
  {
   "cell_type": "code",
   "execution_count": 430,
   "metadata": {
    "colab": {
     "autoexec": {
      "startup": false,
      "wait_interval": 0
     }
    },
    "colab_type": "code",
    "id": "gEFD2wuFZsma"
   },
   "outputs": [],
   "source": [
    "# Preparation data for model\n",
    "\n",
    "def prep_for_model(train_set, test_set):\n",
    "    \n",
    "    \"\"\" \n",
    "    Returns arrays of train/test features(words) and train/test targets(labels)\n",
    "    \n",
    "    Arguments:\n",
    "    train_set -- train dataset, which consists of train messages and labels; \n",
    "        type(train_set) -> pandas.core.frame.DataFrame\n",
    "    test_set -- test dataset, which consists of test messages and labels; \n",
    "        type(train_set) -> pandas.core.frame.DataFrame\n",
    "    \n",
    "    Returns:\n",
    "    train_set_x -- array which contains lists of words of each cleaned train message; \n",
    "        (type(train_set_x) ->numpy.ndarray[list[str]], train_set_x.shape = (num_messages,))\n",
    "    train_set_y -- array of train labels (names of classes), \n",
    "        (type(train_set_y) -> numpy.ndarray, train_set_y.shape = (num_messages,))\n",
    "    test_set_x -- array which contains lists of words of each cleaned test message;\n",
    "        (type(test_set_x) numpy.ndarray[list[str]], test_set_x.shape = (num_messages,)\n",
    "    test_set_y -- array of test labels (names of classes), \n",
    "        (type(test_set_y) -> numpy.ndarray, test_set_y.shape = (num_messages,))\n",
    "    \n",
    "    \"\"\"\n",
    "    \n",
    "    ### START CODE HERE ###\n",
    "#     print(train_set.shape)\n",
    "    t1 = list(map(lambda x: clean_data(x), train_set['v2']))\n",
    "    for i in range(len(t1)):\n",
    "        t1[i] = t1[i].split()\n",
    "    train_set_x = np.asarray(t1)\n",
    "#     train_set_x = np.ndarray(t, shape=(train_set.shape[0],))\n",
    "    \n",
    "    train_set_y = np.asarray(list(train_set['v1']))\n",
    "#     print(train_set_y)\n",
    "    \n",
    "    t2 = list(map(lambda x: clean_data(x), test_set['v2']))\n",
    "    for i in range(len(t2)):\n",
    "        t2[i] = t2[i].split()\n",
    "    test_set_x = np.asarray(t2)\n",
    "#     train_set_x = np.ndarray(t, shape=(train_set.shape[0],))\n",
    "    \n",
    "    test_set_y = np.asarray(list(test_set['v1']))\n",
    "    ### END CODE HERE ###\n",
    "    \n",
    "#     print(train_set_x.shape)\n",
    "    \n",
    "    \n",
    "    return train_set_x, train_set_y, test_set_x, test_set_y\n",
    "\n",
    "train_set_x, train_set_y, test_set_x, test_set_y = prep_for_model(train_set, test_set)"
   ]
  },
  {
   "cell_type": "code",
   "execution_count": 431,
   "metadata": {
    "colab": {
     "autoexec": {
      "startup": false,
      "wait_interval": 0
     }
    },
    "colab_type": "code",
    "id": "bnNLInEBZsmc"
   },
   "outputs": [
    {
     "name": "stdout",
     "output_type": "stream",
     "text": [
      "ham ['go', 'until', 'jurong', 'point', 'crazy', 'available', 'only', 'in', 'bugis', 'n', 'great', 'world', 'la', 'e', 'buffet', 'cine', 'there', 'got', 'amore', 'wat']\n",
      "ham ['u', 'dun', 'say', 'so', 'early', 'hor', 'u', 'c', 'already', 'then', 'say']\n"
     ]
    }
   ],
   "source": [
    "a1, a2, b1, b2 = prep_for_model(df_for_tests.head(3), df_for_tests.tail(2))\n",
    "print(a2[0], a1[0])\n",
    "print(b2[0], b1[0])"
   ]
  },
  {
   "cell_type": "markdown",
   "metadata": {
    "colab_type": "text",
    "id": "Gm4MoiogZsmf"
   },
   "source": [
    "**Expected Output**: \n",
    "\n",
    "<table style=\"width:40%\">\n",
    "    <tr>\n",
    "       <td> **ham:** </td>\n",
    "       <td> ['go', 'until', 'jurong', 'point', 'crazy', 'available', 'only', 'in', 'bugis', 'n', 'great', 'world', 'la', 'e', 'buffet', 'cine', 'there', 'got', 'amore', 'wat'] </td>\n",
    "    </tr>\n",
    "    <tr>\n",
    "       <td> **ham:** </td>\n",
    "       <td> ['u', 'dun', 'say', 'so', 'early', 'hor', 'u', 'c', 'already', 'then', 'say']\n",
    " </td>\n",
    "    </tr>\n",
    "\n",
    "</table>"
   ]
  },
  {
   "cell_type": "markdown",
   "metadata": {
    "colab_type": "text",
    "id": "Hn_Ag9ZQZsmg"
   },
   "source": [
    "Now let's check words in each category"
   ]
  },
  {
   "cell_type": "code",
   "execution_count": 432,
   "metadata": {
    "colab": {
     "autoexec": {
      "startup": false,
      "wait_interval": 0
     }
    },
    "colab_type": "code",
    "id": "olXobIliZsmg"
   },
   "outputs": [],
   "source": [
    "# Check words in categories\n",
    "\n",
    "def categories_words(x_train, y_train):\n",
    "    \n",
    "    \"\"\"\n",
    "    Returns arrays of features(words) in each category and in both categories\n",
    "    \n",
    "    Arguments:\n",
    "    x_train -- array which contains lists of words of each cleaned train message; \n",
    "        (type(x_train) -> numpy.ndarray[list[str]], x_train.shape = (num_messages,))\n",
    "    \n",
    "    Returns:\n",
    "    all_words_list -- array of all words in both categories;\n",
    "        (type(all_words_list) -> numpy.ndarray[str], all_words_list.shape = (num_words,))\n",
    "    ham_words_list -- array of words in 'ham' class;\n",
    "        (type(ham_words_list) -> numpy.ndarray[str], ham_words_list.shape = (num_words,))\n",
    "    spam_words_list -- array of words in 'spam' class;\n",
    "        (type(spam_words_list) -> numpy.ndarray[str], spam_words_list.shape = (num_words,))        \n",
    "    \"\"\"\n",
    "    all_words_list = []\n",
    "    ham_words_list = []\n",
    "    spam_words_list = []\n",
    "    \n",
    "    ### START CODE HERE ###\n",
    "#     print(y_train.shape[0])\n",
    "    for i in range(y_train.shape[0]):\n",
    "        if y_train[i] == 'ham':\n",
    "            ham_words_list += x_train[i]\n",
    "        if y_train[i] == 'spam':\n",
    "            spam_words_list += x_train[i]\n",
    "            \n",
    "    all_words_list = ham_words_list + spam_words_list\n",
    "    \n",
    "    ### END CODE HERE ###\n",
    "    \n",
    "    return all_words_list, ham_words_list, spam_words_list\n",
    "\n",
    "all_words_list_a1, ham_words_list_a1, spam_words_list_a1 = categories_words(a1, a2)"
   ]
  },
  {
   "cell_type": "code",
   "execution_count": 433,
   "metadata": {
    "colab": {
     "autoexec": {
      "startup": false,
      "wait_interval": 0
     }
    },
    "colab_type": "code",
    "id": "zCkJB-7TZsmj"
   },
   "outputs": [
    {
     "name": "stdout",
     "output_type": "stream",
     "text": [
      "first five \"ham\" words of a1:  ['go', 'until', 'jurong', 'point', 'crazy']\n"
     ]
    }
   ],
   "source": [
    "print('first five \"ham\" words of a1: ', ham_words_list_a1[:5])"
   ]
  },
  {
   "cell_type": "markdown",
   "metadata": {
    "colab_type": "text",
    "id": "phUVohsyZsmk"
   },
   "source": [
    "**Expected Output**: \n",
    "\n",
    "<table style=\"width:40%\">\n",
    "    <tr>\n",
    "       <td> **first five \"ham\" words of a1:** </td>\n",
    "       <td> ['go' 'until' 'jurong' 'point' 'crazy'] </td>\n",
    "    </tr>\n",
    "\n",
    "</table>"
   ]
  },
  {
   "cell_type": "markdown",
   "metadata": {
    "colab_type": "text",
    "id": "AARnBVXGZsmk"
   },
   "source": [
    "### 3.2 Model"
   ]
  },
  {
   "cell_type": "code",
   "execution_count": 412,
   "metadata": {
    "colab": {
     "autoexec": {
      "startup": false,
      "wait_interval": 0
     }
    },
    "colab_type": "code",
    "id": "LO7_8FEKZsmm"
   },
   "outputs": [],
   "source": [
    "???\n",
    "\n",
    "import os\n",
    "from collections import Counter\n",
    "from sklearn.naive_bayes import MultinomialNB, GaussianNB, BernoulliNB\n",
    "from sklearn.svm import SVC, NuSVC, LinearSVC\n",
    "\n",
    "\n",
    "class Naive_Bayes(object):\n",
    "    \"\"\"\n",
    "    Parameters:\n",
    "    -----------\n",
    "    alpha: int\n",
    "        The smoothing coeficient.\n",
    "    \"\"\"\n",
    "    def __init__(self, alpha):\n",
    "        self.alpha = alpha\n",
    "        \n",
    "#         self.train_set_x = None\n",
    "#         self.train_set_y = None\n",
    "        \n",
    "        self.all_words_list = []\n",
    "        self.ham_words_list = []\n",
    "        self.spam_words_list = []\n",
    "    \n",
    "    def fit(self, train_set_x, train_set_y):\n",
    "        \n",
    "#         print(train_set_x)\n",
    "#         return\n",
    "        \n",
    "        # Generate all_words_list, ham_words_list, spam_words_list using function 'categories_words'; \n",
    "        # Calculate probability of each word in both categories\n",
    "        ### START CODE HERE ### \n",
    "        self.all_words_list, self.ham_words_list, self.spam_words_list = categories_words(train_set_x, train_set_y) \n",
    "#         print(self.ham_words_list)   \n",
    "        unique_elements, counts_elements = np.unique(self.spam_words_list, return_counts=True)\n",
    "#         print(np.asarray((unique_elements, counts_elements)))\n",
    "        ### END CODE HERE ### \n",
    "    \n",
    "\n",
    "\n",
    "        # Create a dictionary of words with its frequency\n",
    "\n",
    "#         train_dir = 'train-mails'\n",
    "#         dictionary = make_Dictionary(train_set_x)\n",
    "\n",
    "#         # Prepare feature vectors per training mail and its labels\n",
    "\n",
    "#         train_labels = np.zeros(702)\n",
    "#         train_labels[351:701] = 1\n",
    "#         train_matrix = extract_features(train_dir)\n",
    "\n",
    "        # Training SVM and Naive bayes classifier\n",
    "        print(train_set_x)\n",
    "        \n",
    "        from sklearn.datasets import make_classification\n",
    "        X, y = make_classification(n_features=4, random_state=0)\n",
    "        print(X)\n",
    "        model1 = MultinomialNB()\n",
    "        model2 = LinearSVC()\n",
    "        model1.fit(train_set_x,train_set_y)\n",
    "        model2.fit(train_set_x,train_set_y)\n",
    "\n",
    "#         # Test the unseen mails for Spam\n",
    "#         test_dir = 'test-mails'\n",
    "#         test_matrix = extract_features(test_dir)\n",
    "#         test_labels = np.zeros(260)\n",
    "#         test_labels[130:260] = 1\n",
    "#         result1 = model1.predict(test_matrix)\n",
    "#         result2 = model2.predict(test_matrix)\n",
    "     \n",
    "        \n",
    "    def predict(self, test_set_x):\n",
    "        \n",
    "        # Return list of predicted labels for test set; type(prediction) -> list, len(prediction) = len(test_set_y)\n",
    "        ### START CODE HERE ###\n",
    "#         prediction = model.predict(self.test_set_x)\n",
    "            \n",
    "        ### END CODE HERE ### \n",
    "        return prediction"
   ]
  },
  {
   "cell_type": "markdown",
   "metadata": {
    "colab_type": "text",
    "id": "QVU0yzP1Zsmo"
   },
   "source": [
    "## 4 - Training"
   ]
  },
  {
   "cell_type": "markdown",
   "metadata": {
    "colab_type": "text",
    "id": "KIiilw0KZsmo"
   },
   "source": [
    "First of all, we should define a smoothing coeficient (`alpha`)."
   ]
  },
  {
   "cell_type": "code",
   "execution_count": 413,
   "metadata": {
    "colab": {
     "autoexec": {
      "startup": false,
      "wait_interval": 0
     }
    },
    "colab_type": "code",
    "id": "two70VtTZsmp"
   },
   "outputs": [],
   "source": [
    "a = 1"
   ]
  },
  {
   "cell_type": "markdown",
   "metadata": {
    "colab_type": "text",
    "id": "F0FVH2nMZsmr"
   },
   "source": [
    "Now we can initialize our model:"
   ]
  },
  {
   "cell_type": "code",
   "execution_count": 414,
   "metadata": {
    "colab": {
     "autoexec": {
      "startup": false,
      "wait_interval": 0
     }
    },
    "colab_type": "code",
    "id": "lFOgwc0eZsmr"
   },
   "outputs": [],
   "source": [
    "model = Naive_Bayes(alpha=a)"
   ]
  },
  {
   "cell_type": "markdown",
   "metadata": {
    "colab_type": "text",
    "id": "DBs3q36OZsmu"
   },
   "source": [
    "Let's train our model:"
   ]
  },
  {
   "cell_type": "code",
   "execution_count": 415,
   "metadata": {
    "colab": {
     "autoexec": {
      "startup": false,
      "wait_interval": 0
     }
    },
    "colab_type": "code",
    "id": "dh3_xodbZsmv"
   },
   "outputs": [
    {
     "name": "stdout",
     "output_type": "stream",
     "text": [
      "[list(['eh', 'u', 'remember', 'how', '2', 'spell', 'his', 'name', 'yes', 'i', 'did', 'he', 'v', 'naughty', 'make', 'until', 'i', 'v', 'wet'])\n",
      " list(['are', 'you', 'willing', 'to', 'go', 'for', 'aptitude', 'class'])\n",
      " list(['i', 'will', 'reach', 'ur', 'home', 'in', 'ltgt', 'minutes']) ...\n",
      " list(['our', 'ride', 'equally', 'uneventful', 'not', 'too', 'many', 'of', 'those', 'pesky', 'cyclists', 'around', 'at', 'that', 'time', 'of', 'night'])\n",
      " list(['cud', 'u', 'tell', 'ppl', 'im', 'gona', 'b', 'a', 'bit', 'l8', 'cos', '2', 'buses', 'hav', 'gon', 'past', 'cos', 'they', 'were', 'full', 'im', 'still', 'waitin', '4', '1', 'pete', 'x'])\n",
      " list(['do', 'u', 'hav', 'any', 'frnd', 'by', 'name', 'ashwini', 'in', 'ur', 'college'])]\n",
      "[[-7.15602562e-02  2.29553900e-01  2.16543447e-01  6.52739792e-02]\n",
      " [-4.03257104e-01  2.00618406e+00  2.02751248e+00  8.50891944e-01]\n",
      " [-1.13058206e+00 -2.02959251e-02 -7.10233633e-01 -1.44099108e+00]\n",
      " [ 1.83324682e-01 -7.74610354e-01 -7.66054695e-01 -2.93668633e-01]\n",
      " [-2.86920000e-01 -7.16952984e-01 -9.86585088e-01 -8.48214735e-01]\n",
      " [-2.56042975e+00  4.02232337e-01 -1.10074198e+00 -2.95958826e+00]\n",
      " [ 4.22341441e-01 -2.03911440e+00 -2.05321581e+00 -8.49123046e-01]\n",
      " [-5.09792713e-01  4.92658944e-01  2.48206729e-01 -3.09590732e-01]\n",
      " [ 7.21669496e-01 -1.12155664e+00 -8.31839865e-01  1.50742097e-01]\n",
      " [-9.86132567e-01  1.71053103e+00  1.33828180e+00 -8.53410903e-02]\n",
      " [-7.23168038e-02 -7.73668334e-01 -9.20383253e-01 -6.15748704e-01]\n",
      " [ 4.55946498e-01 -4.57868762e-01 -2.41527100e-01  2.65199620e-01]\n",
      " [ 3.93906076e-01  3.90247346e-01  6.81520677e-01  7.61804328e-01]\n",
      " [ 2.03196825e+00  8.40398655e-01  2.18718140e+00  3.13482383e+00]\n",
      " [ 4.58931008e-02 -2.61403392e-01 -2.68225264e-01 -1.19266118e-01]\n",
      " [ 3.73436160e-01 -1.07382634e+00 -9.89449288e-01 -2.56507783e-01]\n",
      " [-1.20114435e+00  1.17241061e-01 -5.97321845e-01 -1.43683401e+00]\n",
      " [-1.30819171e+00 -4.32659559e-01 -1.28532883e+00 -1.94473774e+00]\n",
      " [ 5.56269743e-01 -5.84264226e-01 -3.23726922e-01  3.06165066e-01]\n",
      " [-1.79506345e+00  3.92904728e+00  3.35973253e+00  3.97369747e-01]\n",
      " [-1.30813451e+00  1.51697242e+00  9.23281451e-01 -6.23042516e-01]\n",
      " [-2.38076394e+00  1.13712778e+00 -1.59027524e-01 -2.23460699e+00]\n",
      " [-4.86612462e-01 -1.92161720e+00 -2.47263494e+00 -1.91692582e+00]\n",
      " [ 4.32994532e-01  2.20346371e-01  5.12814562e-01  6.95976074e-01]\n",
      " [ 1.26780440e+00 -1.80170793e+00 -1.27034986e+00  3.79112828e-01]\n",
      " [ 1.10502647e+00 -1.94989387e+00 -1.53716448e+00  7.31712082e-02]\n",
      " [ 1.34057624e+00 -8.14593363e-01 -1.07894567e-01  1.14012761e+00]\n",
      " [-6.79598011e-01  1.03943907e+00  7.64389529e-01 -1.53297707e-01]\n",
      " [-1.82896522e-01 -1.01290187e+00 -1.25860859e+00 -9.17515596e-01]\n",
      " [ 1.10698637e+00 -1.06701573e+00 -5.35834091e-01  6.74133734e-01]\n",
      " [ 5.44818813e-01 -1.33330476e+00 -1.17921312e+00 -2.16052537e-01]\n",
      " [ 1.55525060e+00  2.56253272e-01  1.23567148e+00  2.13703895e+00]\n",
      " [-3.45538051e-01 -2.29672334e+00 -2.81180710e+00 -1.99311342e+00]\n",
      " [ 1.12073484e+00 -3.24744191e-01  3.13380666e-01  1.19466313e+00]\n",
      " [-9.07197428e-01  3.87813199e-01 -1.12132974e-01 -8.82342712e-01]\n",
      " [ 1.87834887e+00  5.77288519e-01  1.79574591e+00  2.76253865e+00]\n",
      " [ 1.43370121e+00 -1.75423984e+00 -1.11573423e+00  6.20716743e-01]\n",
      " [ 3.80251566e-01  2.02956697e+00  2.53026908e+00  1.85583449e+00]\n",
      " [-1.25732069e+00 -2.14861012e+00 -3.19826339e+00 -3.04373307e+00]\n",
      " [ 6.87661760e-01 -1.36592018e+00 -1.12933108e+00 -5.78388150e-02]\n",
      " [-1.10453952e+00  2.10141172e+00  1.70910242e+00  3.01549448e-02]\n",
      " [-7.93470192e-01  1.26662420e+00  9.52529622e-01 -1.43043530e-01]\n",
      " [-1.24378126e+00  2.80821112e-01 -4.37933163e-01 -1.37977014e+00]\n",
      " [ 4.17180364e-01 -1.16786115e+00 -1.06938289e+00 -2.65030274e-01]\n",
      " [-4.22761581e-01 -7.69213504e-01 -1.12836011e+00 -1.05512600e+00]\n",
      " [-2.47553402e-03  3.99799271e-01  4.51394467e-01  2.67892177e-01]\n",
      " [ 4.86681188e-01 -1.54740567e+00 -1.45709006e+00 -4.34580195e-01]\n",
      " [-6.05415797e-01 -2.95970599e-01 -7.03291920e-01 -9.64902950e-01]\n",
      " [-1.66130052e+00  2.39203665e+00  1.69989125e+00 -4.75683472e-01]\n",
      " [-1.40246886e+00 -1.12856503e-01 -9.80358459e-01 -1.84696289e+00]\n",
      " [ 1.77624479e+00  8.01478699e-01  1.98764670e+00  2.78561851e+00]\n",
      " [-3.58754622e+00  2.91819358e-01 -1.85016853e+00 -4.33105451e+00]\n",
      " [-8.60699619e-01 -3.05605700e-01 -8.69385004e-01 -1.29370156e+00]\n",
      " [-2.52159550e+00  2.47822554e+00  1.27458364e+00 -1.50328320e+00]\n",
      " [-2.68051210e-01 -2.51082272e-01 -4.47369310e-01 -5.08589018e-01]\n",
      " [ 1.47049892e+00  1.27779762e+00  2.34137626e+00  2.72253736e+00]\n",
      " [-1.62073375e+00 -1.09219355e+00 -2.22244349e+00 -2.78637404e+00]\n",
      " [ 9.29950318e-01 -1.28851463e+00 -8.94365876e-01  3.00495195e-01]\n",
      " [-2.05721672e-01  1.75895321e+00  1.86752028e+00  9.32664558e-01]\n",
      " [ 2.02899023e+00 -1.66963586e-01  1.04421447e+00  2.44819035e+00]\n",
      " [ 4.24345081e-01 -1.27805989e+00 -1.18986266e+00 -3.30687508e-01]\n",
      " [ 1.23195055e+00 -1.53949526e+00 -9.95105317e-01  5.11600970e-01]\n",
      " [ 1.97698901e+00 -2.13264106e+00 -1.21414740e+00  1.05004467e+00]\n",
      " [ 7.09216593e-01 -1.48173957e+00 -1.24743076e+00 -1.09140294e-01]\n",
      " [-9.61541555e-01  1.60143468e+00  1.22964368e+00 -1.28252298e-01]\n",
      " [ 2.63325914e+00  1.99685828e+00  3.86274219e+00  4.67783070e+00]\n",
      " [-1.23267396e+00  1.16556238e+00  5.71068197e-01 -7.65997056e-01]\n",
      " [ 2.11564734e+00 -1.14241583e+00 -8.11815767e-03  1.89634239e+00]\n",
      " [-1.62184212e+00  1.71338067e+00  9.55083877e-01 -8.85921252e-01]\n",
      " [ 1.79445113e+00 -1.76032840e+00 -9.03343950e-01  1.07199564e+00]\n",
      " [-4.37843295e-02 -1.10110026e+00 -1.27395967e+00 -8.01690305e-01]\n",
      " [-1.04862023e-01  2.77136027e-01  2.50202269e-01  5.54893707e-02]\n",
      " [ 1.78037474e+00 -1.74994864e+00 -9.00142145e-01  1.06126205e+00]\n",
      " [ 3.51173413e-01 -9.78969116e-01 -8.95526209e-01 -2.20309869e-01]\n",
      " [ 5.59313196e-01  2.94070232e-01  6.73114962e-01  9.05415370e-01]\n",
      " [-2.89788250e-01 -9.07110118e-01 -1.20374176e+00 -9.80739928e-01]\n",
      " [-8.27182474e-01  1.52088679e+00  1.22006997e+00 -1.32411247e-02]\n",
      " [-3.69743600e+00  1.57688756e+00 -4.61220130e-01 -3.59865169e+00]\n",
      " [-8.64008129e-01 -7.95292811e-02 -6.15293010e-01 -1.14462475e+00]\n",
      " [-2.08311803e-01  8.62484933e-01  8.50411665e-01  3.21693913e-01]\n",
      " [-1.00171129e-01  2.17784212e+00  2.40620516e+00  1.34986807e+00]\n",
      " [ 1.85082392e+00 -1.68249922e+00 -7.80910684e-01  1.19591905e+00]\n",
      " [ 7.33899962e-01 -5.14311992e-01 -1.36508549e-01  5.77822712e-01]\n",
      " [-8.69536952e-01  1.99896877e+00  1.73590335e+00  2.57374908e-01]\n",
      " [ 1.35329628e+00 -1.28744103e+00 -6.35812195e-01  8.35649670e-01]\n",
      " [-8.00221059e-01 -1.73569497e-01 -6.83049356e-01 -1.12784904e+00]\n",
      " [ 2.42548085e+00 -5.49891548e-01  8.51440362e-01  2.68913472e+00]\n",
      " [ 1.26661394e+00 -1.66609892e+00 -1.11745336e+00  4.69537098e-01]\n",
      " [-3.21105367e-01  4.13288030e-01  2.72990606e-01 -1.25198379e-01]\n",
      " [ 8.65825460e-01 -1.47849471e+00 -1.14855777e+00  9.07604414e-02]\n",
      " [-7.62884416e-01 -8.71745826e-01 -1.45125944e+00 -1.55399781e+00]\n",
      " [-4.43584187e-01  9.94282124e-01  8.56699698e-01  1.14032083e-01]\n",
      " [-2.20119016e+00  2.86723955e+00  1.91002859e+00 -8.35101353e-01]\n",
      " [ 1.83240861e+00 -1.91015444e+00 -1.04999632e+00  1.01834812e+00]\n",
      " [-3.54528872e-01  1.21218915e-01 -7.81871442e-02 -3.65380582e-01]\n",
      " [-1.97242756e+00  1.52087608e+00  5.23902618e-01 -1.45899162e+00]\n",
      " [-1.05286598e+00 -6.41515112e-01 -1.36672011e+00 -1.76399739e+00]\n",
      " [-4.71824167e-01  4.44968329e-01  2.17261785e-01 -2.93988382e-01]\n",
      " [-1.94643859e-01  1.29688443e+00  1.35081491e+00  6.33420331e-01]\n",
      " [-3.59967304e-01 -1.05473721e+00 -1.41363563e+00 -1.16940705e+00]]\n"
     ]
    },
    {
     "ename": "ValueError",
     "evalue": "setting an array element with a sequence.",
     "output_type": "error",
     "traceback": [
      "\u001b[0;31m---------------------------------------------------------------------------\u001b[0m",
      "\u001b[0;31mValueError\u001b[0m                                Traceback (most recent call last)",
      "\u001b[0;32m<ipython-input-415-2364e9dd4c34>\u001b[0m in \u001b[0;36m<module>\u001b[0;34m()\u001b[0m\n\u001b[0;32m----> 1\u001b[0;31m \u001b[0mmodel\u001b[0m\u001b[0;34m.\u001b[0m\u001b[0mfit\u001b[0m\u001b[0;34m(\u001b[0m\u001b[0mtrain_set_x\u001b[0m\u001b[0;34m,\u001b[0m \u001b[0mtrain_set_y\u001b[0m\u001b[0;34m)\u001b[0m\u001b[0;34m\u001b[0m\u001b[0m\n\u001b[0m",
      "\u001b[0;32m<ipython-input-412-f79777229f48>\u001b[0m in \u001b[0;36mfit\u001b[0;34m(self, train_set_x, train_set_y)\u001b[0m\n\u001b[1;32m     57\u001b[0m         \u001b[0mmodel1\u001b[0m \u001b[0;34m=\u001b[0m \u001b[0mMultinomialNB\u001b[0m\u001b[0;34m(\u001b[0m\u001b[0;34m)\u001b[0m\u001b[0;34m\u001b[0m\u001b[0m\n\u001b[1;32m     58\u001b[0m         \u001b[0mmodel2\u001b[0m \u001b[0;34m=\u001b[0m \u001b[0mLinearSVC\u001b[0m\u001b[0;34m(\u001b[0m\u001b[0;34m)\u001b[0m\u001b[0;34m\u001b[0m\u001b[0m\n\u001b[0;32m---> 59\u001b[0;31m         \u001b[0mmodel1\u001b[0m\u001b[0;34m.\u001b[0m\u001b[0mfit\u001b[0m\u001b[0;34m(\u001b[0m\u001b[0mtrain_set_x\u001b[0m\u001b[0;34m,\u001b[0m\u001b[0mtrain_set_y\u001b[0m\u001b[0;34m)\u001b[0m\u001b[0;34m\u001b[0m\u001b[0m\n\u001b[0m\u001b[1;32m     60\u001b[0m         \u001b[0mmodel2\u001b[0m\u001b[0;34m.\u001b[0m\u001b[0mfit\u001b[0m\u001b[0;34m(\u001b[0m\u001b[0mtrain_set_x\u001b[0m\u001b[0;34m,\u001b[0m\u001b[0mtrain_set_y\u001b[0m\u001b[0;34m)\u001b[0m\u001b[0;34m\u001b[0m\u001b[0m\n\u001b[1;32m     61\u001b[0m \u001b[0;34m\u001b[0m\u001b[0m\n",
      "\u001b[0;32m~/anaconda3/lib/python3.6/site-packages/sklearn/naive_bayes.py\u001b[0m in \u001b[0;36mfit\u001b[0;34m(self, X, y, sample_weight)\u001b[0m\n\u001b[1;32m    577\u001b[0m             \u001b[0mReturns\u001b[0m \u001b[0mself\u001b[0m\u001b[0;34m.\u001b[0m\u001b[0;34m\u001b[0m\u001b[0m\n\u001b[1;32m    578\u001b[0m         \"\"\"\n\u001b[0;32m--> 579\u001b[0;31m         \u001b[0mX\u001b[0m\u001b[0;34m,\u001b[0m \u001b[0my\u001b[0m \u001b[0;34m=\u001b[0m \u001b[0mcheck_X_y\u001b[0m\u001b[0;34m(\u001b[0m\u001b[0mX\u001b[0m\u001b[0;34m,\u001b[0m \u001b[0my\u001b[0m\u001b[0;34m,\u001b[0m \u001b[0;34m'csr'\u001b[0m\u001b[0;34m)\u001b[0m\u001b[0;34m\u001b[0m\u001b[0m\n\u001b[0m\u001b[1;32m    580\u001b[0m         \u001b[0m_\u001b[0m\u001b[0;34m,\u001b[0m \u001b[0mn_features\u001b[0m \u001b[0;34m=\u001b[0m \u001b[0mX\u001b[0m\u001b[0;34m.\u001b[0m\u001b[0mshape\u001b[0m\u001b[0;34m\u001b[0m\u001b[0m\n\u001b[1;32m    581\u001b[0m \u001b[0;34m\u001b[0m\u001b[0m\n",
      "\u001b[0;32m~/anaconda3/lib/python3.6/site-packages/sklearn/utils/validation.py\u001b[0m in \u001b[0;36mcheck_X_y\u001b[0;34m(X, y, accept_sparse, dtype, order, copy, force_all_finite, ensure_2d, allow_nd, multi_output, ensure_min_samples, ensure_min_features, y_numeric, warn_on_dtype, estimator)\u001b[0m\n\u001b[1;32m    571\u001b[0m     X = check_array(X, accept_sparse, dtype, order, copy, force_all_finite,\n\u001b[1;32m    572\u001b[0m                     \u001b[0mensure_2d\u001b[0m\u001b[0;34m,\u001b[0m \u001b[0mallow_nd\u001b[0m\u001b[0;34m,\u001b[0m \u001b[0mensure_min_samples\u001b[0m\u001b[0;34m,\u001b[0m\u001b[0;34m\u001b[0m\u001b[0m\n\u001b[0;32m--> 573\u001b[0;31m                     ensure_min_features, warn_on_dtype, estimator)\n\u001b[0m\u001b[1;32m    574\u001b[0m     \u001b[0;32mif\u001b[0m \u001b[0mmulti_output\u001b[0m\u001b[0;34m:\u001b[0m\u001b[0;34m\u001b[0m\u001b[0m\n\u001b[1;32m    575\u001b[0m         y = check_array(y, 'csr', force_all_finite=True, ensure_2d=False,\n",
      "\u001b[0;32m~/anaconda3/lib/python3.6/site-packages/sklearn/utils/validation.py\u001b[0m in \u001b[0;36mcheck_array\u001b[0;34m(array, accept_sparse, dtype, order, copy, force_all_finite, ensure_2d, allow_nd, ensure_min_samples, ensure_min_features, warn_on_dtype, estimator)\u001b[0m\n\u001b[1;32m    431\u001b[0m                                       force_all_finite)\n\u001b[1;32m    432\u001b[0m     \u001b[0;32melse\u001b[0m\u001b[0;34m:\u001b[0m\u001b[0;34m\u001b[0m\u001b[0m\n\u001b[0;32m--> 433\u001b[0;31m         \u001b[0marray\u001b[0m \u001b[0;34m=\u001b[0m \u001b[0mnp\u001b[0m\u001b[0;34m.\u001b[0m\u001b[0marray\u001b[0m\u001b[0;34m(\u001b[0m\u001b[0marray\u001b[0m\u001b[0;34m,\u001b[0m \u001b[0mdtype\u001b[0m\u001b[0;34m=\u001b[0m\u001b[0mdtype\u001b[0m\u001b[0;34m,\u001b[0m \u001b[0morder\u001b[0m\u001b[0;34m=\u001b[0m\u001b[0morder\u001b[0m\u001b[0;34m,\u001b[0m \u001b[0mcopy\u001b[0m\u001b[0;34m=\u001b[0m\u001b[0mcopy\u001b[0m\u001b[0;34m)\u001b[0m\u001b[0;34m\u001b[0m\u001b[0m\n\u001b[0m\u001b[1;32m    434\u001b[0m \u001b[0;34m\u001b[0m\u001b[0m\n\u001b[1;32m    435\u001b[0m         \u001b[0;32mif\u001b[0m \u001b[0mensure_2d\u001b[0m\u001b[0;34m:\u001b[0m\u001b[0;34m\u001b[0m\u001b[0m\n",
      "\u001b[0;31mValueError\u001b[0m: setting an array element with a sequence."
     ]
    }
   ],
   "source": [
    "model.fit(train_set_x, train_set_y)"
   ]
  },
  {
   "cell_type": "markdown",
   "metadata": {
    "colab_type": "text",
    "id": "MruvACv2Zsmw"
   },
   "source": [
    "## 5 - Making predictions"
   ]
  },
  {
   "cell_type": "code",
   "execution_count": 393,
   "metadata": {
    "colab": {
     "autoexec": {
      "startup": false,
      "wait_interval": 0
     }
    },
    "colab_type": "code",
    "id": "0-zUCJU_Zsmy"
   },
   "outputs": [
    {
     "ename": "NameError",
     "evalue": "name 'prediction' is not defined",
     "output_type": "error",
     "traceback": [
      "\u001b[0;31m---------------------------------------------------------------------------\u001b[0m",
      "\u001b[0;31mNameError\u001b[0m                                 Traceback (most recent call last)",
      "\u001b[0;32m<ipython-input-393-d7013be362fc>\u001b[0m in \u001b[0;36m<module>\u001b[0;34m()\u001b[0m\n\u001b[0;32m----> 1\u001b[0;31m \u001b[0my_predictions\u001b[0m \u001b[0;34m=\u001b[0m \u001b[0mmodel\u001b[0m\u001b[0;34m.\u001b[0m\u001b[0mpredict\u001b[0m\u001b[0;34m(\u001b[0m\u001b[0mtest_set_x\u001b[0m\u001b[0;34m)\u001b[0m\u001b[0;34m\u001b[0m\u001b[0m\n\u001b[0m",
      "\u001b[0;32m<ipython-input-389-58f1b1422003>\u001b[0m in \u001b[0;36mpredict\u001b[0;34m(self, test_set_x)\u001b[0m\n\u001b[1;32m     52\u001b[0m \u001b[0;34m\u001b[0m\u001b[0m\n\u001b[1;32m     53\u001b[0m         \u001b[0;31m### END CODE HERE ###\u001b[0m\u001b[0;34m\u001b[0m\u001b[0;34m\u001b[0m\u001b[0m\n\u001b[0;32m---> 54\u001b[0;31m         \u001b[0;32mreturn\u001b[0m \u001b[0mprediction\u001b[0m\u001b[0;34m\u001b[0m\u001b[0m\n\u001b[0m",
      "\u001b[0;31mNameError\u001b[0m: name 'prediction' is not defined"
     ]
    }
   ],
   "source": [
    "y_predictions = model.predict(test_set_x)"
   ]
  },
  {
   "cell_type": "markdown",
   "metadata": {
    "colab_type": "text",
    "id": "FNA1wZRAZsmy"
   },
   "source": [
    "Let's calculate accuracy (accuracy of model must be >0.95):"
   ]
  },
  {
   "cell_type": "code",
   "execution_count": 0,
   "metadata": {
    "colab": {
     "autoexec": {
      "startup": false,
      "wait_interval": 0
     }
    },
    "colab_type": "code",
    "id": "KBFDdUdkZsm0"
   },
   "outputs": [],
   "source": [
    "actual = list(test_set_y)\n",
    "accuracy = (y_predictions == test_set_y).mean()\n",
    "print(accuracy)"
   ]
  },
  {
   "cell_type": "markdown",
   "metadata": {
    "colab_type": "text",
    "id": "7-Wk8eTRZsm1"
   },
   "source": [
    "## 6 - Conclusion\n",
    "As we can see, our model fits well the hypothesis function to the data.\n",
    "\n",
    "#### What's next:\n",
    "1. Try experimenting with the `alpha` to see how this affects the model you have built.\n",
    "2. Compare the results you have obtained with the `sklearn.naive_bayes.MultinomialNB` model.\n",
    "3. Try this model in the wild! Select your favorite dataset [here](https://www.kaggle.com/datasets?sortBy=hottest&group=public&page=1&pageSize=20&size=small&filetype=all&license=all&tagids=13303) and play with it."
   ]
  }
 ],
 "metadata": {
  "colab": {
   "default_view": {},
   "name": "NBC.ipynb",
   "provenance": [],
   "version": "0.3.2",
   "views": {}
  },
  "kernelspec": {
   "display_name": "Python 3",
   "language": "python",
   "name": "python3"
  },
  "language_info": {
   "codemirror_mode": {
    "name": "ipython",
    "version": 3
   },
   "file_extension": ".py",
   "mimetype": "text/x-python",
   "name": "python",
   "nbconvert_exporter": "python",
   "pygments_lexer": "ipython3",
   "version": "3.6.5"
  }
 },
 "nbformat": 4,
 "nbformat_minor": 1
}
